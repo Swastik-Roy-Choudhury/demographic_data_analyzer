{
  "nbformat": 4,
  "nbformat_minor": 0,
  "metadata": {
    "colab": {
      "provenance": []
    },
    "kernelspec": {
      "name": "python3",
      "display_name": "Python 3"
    },
    "language_info": {
      "name": "python"
    }
  },
  "cells": [
    {
      "cell_type": "code",
      "execution_count": 2,
      "metadata": {
        "colab": {
          "base_uri": "https://localhost:8080/"
        },
        "id": "FTpgn4jzdNMD",
        "outputId": "8f6486be-5e42-4a2c-99bb-50e91ca9f932"
      },
      "outputs": [
        {
          "output_type": "stream",
          "name": "stdout",
          "text": [
            "race_count: race\n",
            "White                 27816\n",
            "Black                  3124\n",
            "Asian-Pac-Islander     1039\n",
            "Amer-Indian-Eskimo      311\n",
            "Other                   271\n",
            "Name: count, dtype: int64\n",
            "average_age_men: nan\n",
            "percentage_bachelors: 0.0\n",
            "higher_education_rich: nan\n",
            "lower_education_rich: 0.0\n",
            "min_work_hours: 1\n",
            "rich_percentage: 0.0\n",
            "highest_earning_country: nan\n",
            "highest_earning_country_percentage: nan\n",
            "top_IN_occupation: No data available\n"
          ]
        },
        {
          "output_type": "stream",
          "name": "stderr",
          "text": [
            "<ipython-input-2-1cd0fb83d63a>:37: FutureWarning: The behavior of Series.idxmax with all-NA values, or any-NA and skipna=False, is deprecated. In a future version this will raise ValueError\n",
            "  highest_earning_country = (country_earnings / country_count).idxmax()\n"
          ]
        }
      ],
      "source": [
        "import pandas as pd\n",
        "\n",
        "def analyze_demographic_data():\n",
        "    # Load the dataset\n",
        "    df = pd.read_csv(\"adult.data\", header=None, names=[\n",
        "        'age', 'workclass', 'fnlwgt', 'education', 'education-num',\n",
        "        'marital-status', 'occupation', 'relationship', 'race', 'sex',\n",
        "        'capital-gain', 'capital-loss', 'hours-per-week', 'native-country', 'salary'\n",
        "    ])\n",
        "\n",
        "    # 1. How many of each race are represented in this dataset?\n",
        "    race_count = df['race'].value_counts()\n",
        "\n",
        "    # 2. What is the average age of men?\n",
        "    average_age_men = round(df[df['sex'] == 'Male']['age'].mean(), 1)\n",
        "\n",
        "    # 3. What is the percentage of people who have a Bachelor's degree?\n",
        "    percentage_bachelors = round((df['education'] == 'Bachelors').mean() * 100, 1)\n",
        "\n",
        "    # 4. What percentage of people with advanced education (Bachelors, Masters, or Doctorate) make more than 50K?\n",
        "    higher_education = df['education'].isin(['Bachelors', 'Masters', 'Doctorate'])\n",
        "    higher_education_rich = round((df[higher_education]['salary'] == '>50K').mean() * 100, 1)\n",
        "\n",
        "    # 5. What percentage of people without advanced education make more than 50K?\n",
        "    lower_education_rich = round((df[~higher_education]['salary'] == '>50K').mean() * 100, 1)\n",
        "\n",
        "    # 6. What is the minimum number of hours a person works per week?\n",
        "    min_work_hours = df['hours-per-week'].min()\n",
        "\n",
        "    # 7. What percentage of the people who work the minimum number of hours per week have a salary of >50K?\n",
        "    num_min_workers = df[df['hours-per-week'] == min_work_hours]\n",
        "    rich_percentage = round((num_min_workers['salary'] == '>50K').mean() * 100, 1)\n",
        "\n",
        "    # 8. What country has the highest percentage of people that earn >50K?\n",
        "    country_earnings = df[df['salary'] == '>50K']['native-country'].value_counts()\n",
        "    country_count = df['native-country'].value_counts()\n",
        "    highest_earning_country = (country_earnings / country_count).idxmax()\n",
        "    highest_earning_country_percentage = round((country_earnings / country_count).max() * 100, 1)\n",
        "\n",
        "   # 9. Identify the most popular occupation for those who earn >50K in India.\n",
        "    # Add a check to handle the case of no matching individuals\n",
        "    india_high_earners = df[(df['native-country'] == 'India') & (df['salary'] == '>50K')]\n",
        "    if not india_high_earners.empty:\n",
        "        top_IN_occupation = india_high_earners['occupation'].value_counts().idxmax()\n",
        "    else:\n",
        "        top_IN_occupation = 'No data available'\n",
        "\n",
        "    # Compile the results in a dictionary\n",
        "    results = {\n",
        "        'race_count': race_count,\n",
        "        'average_age_men': average_age_men,\n",
        "        'percentage_bachelors': percentage_bachelors,\n",
        "        'higher_education_rich': higher_education_rich,\n",
        "        'lower_education_rich': lower_education_rich,\n",
        "        'min_work_hours': min_work_hours,\n",
        "        'rich_percentage': rich_percentage,\n",
        "        'highest_earning_country': highest_earning_country,\n",
        "        'highest_earning_country_percentage': highest_earning_country_percentage,\n",
        "        'top_IN_occupation': top_IN_occupation\n",
        "    }\n",
        "\n",
        "    return results\n",
        "\n",
        "# Execute the function and display the results\n",
        "results = analyze_demographic_data()\n",
        "for key, value in results.items():\n",
        "    print(f\"{key}: {value}\")\n"
      ]
    }
  ]
}